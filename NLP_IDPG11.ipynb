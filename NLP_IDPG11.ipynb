{
  "nbformat": 4,
  "nbformat_minor": 0,
  "metadata": {
    "colab": {
      "provenance": [],
      "authorship_tag": "ABX9TyNLVKn2vqrqQ529VSTIhCRp",
      "include_colab_link": true
    },
    "kernelspec": {
      "name": "python3",
      "display_name": "Python 3"
    },
    "language_info": {
      "name": "python"
    }
  },
  "cells": [
    {
      "cell_type": "markdown",
      "metadata": {
        "id": "view-in-github",
        "colab_type": "text"
      },
      "source": [
        "<a href=\"https://colab.research.google.com/github/SidElias/IDP-G11/blob/main/NLP_IDPG11.ipynb\" target=\"_parent\"><img src=\"https://colab.research.google.com/assets/colab-badge.svg\" alt=\"Open In Colab\"/></a>"
      ]
    },
    {
      "cell_type": "code",
      "source": [
        "import tensorflow as tf\n",
        "from tensorflow import keras\n",
        "\n",
        "from keras.preprocessing.text import Tokenizer\n",
        "from keras.preprocessing.sequence import pad_sequences"
      ],
      "metadata": {
        "id": "S9jAfPZ2NVZ4"
      },
      "execution_count": 1,
      "outputs": []
    },
    {
      "cell_type": "code",
      "source": [
        "import json\n",
        "\n",
        "with open('MSASL_classes.json', 'r') as f:\n",
        "    data = json.load(f)"
      ],
      "metadata": {
        "id": "yM6mp4OUU2Ax"
      },
      "execution_count": 2,
      "outputs": []
    },
    {
      "cell_type": "code",
      "source": [
        "vocab_size = 10000\n",
        "embedding_dim = 16\n",
        "max_length = 100\n",
        "trunc_type='post'\n",
        "padding_type='post'\n",
        "oov_tok = \"<OOV>\"\n",
        "training_size = 20000"
      ],
      "metadata": {
        "id": "x6BXgHarVnI0"
      },
      "execution_count": 26,
      "outputs": []
    },
    {
      "cell_type": "code",
      "source": [
        "training_sentences = data[0:training_size]\n",
        "testing_sentences = data[training_size:]"
      ],
      "metadata": {
        "id": "Gi3TPua0VuT1"
      },
      "execution_count": 29,
      "outputs": []
    },
    {
      "cell_type": "code",
      "source": [
        "tokenizer = Tokenizer(num_words=vocab_size, oov_token=oov_tok)\n",
        "tokenizer.fit_on_texts(training_sentences)"
      ],
      "metadata": {
        "id": "OGkwVQSRXbId"
      },
      "execution_count": 30,
      "outputs": []
    },
    {
      "cell_type": "code",
      "source": [
        "word_index = tokenizer.word_index\n",
        "sequences = tokenizer.texts_to_sequences(training_sentences)\n"
      ],
      "metadata": {
        "id": "DJs4YIQsWDEV"
      },
      "execution_count": 31,
      "outputs": []
    },
    {
      "cell_type": "code",
      "source": [
        "print ('\\nWord Index = {}'.format(word_index))"
      ],
      "metadata": {
        "colab": {
          "base_uri": "https://localhost:8080/"
        },
        "id": "kM9RJ6BmW_tT",
        "outputId": "f8ac3bd0-26cf-4883-c0b8-3f281e4f0f66"
      },
      "execution_count": 32,
      "outputs": [
        {
          "output_type": "stream",
          "name": "stdout",
          "text": [
            "\n",
            "Word Index = {'<OOV>': 1, 'not': 2, 'up': 3, 'every': 4, 'school': 5, 'you': 6, 'all': 7, 'love': 8, 'year': 9, 'week': 10, 'morning': 11, 'hair': 12, 'last': 13, 'like': 14, 'good': 15, 'hearing': 16, 'how': 17, 'night': 18, 'me': 19, 'afternoon': 20, 'next': 21, 'i': 22, 'long': 23, 'take': 24, 'center': 25, 'south': 26, 'nice': 27, 'want': 28, 'friend': 29, 'student': 30, 'spring': 31, 'help': 32, 'understand': 33, 'day': 34, 'play': 35, 'sign': 36, 'go': 37, 'france': 38, 'know': 39, 'meet': 40, 'more': 41, 'hour': 42, 'many': 43, 'see': 44, 'freeze': 45, 'break': 46, 'africa': 47, 'month': 48, 'hard': 49, 'one': 50, 'america': 51, 'down': 52, 'autumn': 53, 'room': 54, 'get': 55, 'short': 56, 'language': 57, 'to': 58, 'copy': 59, 'look': 60, 'on': 61, 'in': 62, 'half': 63, 'come': 64, 'face': 65, 'that': 66, 'than': 67, 'hello': 68, 'teacher': 69, 'eat': 70, 'no': 71, 'happy': 72, 'orange': 73, 'deaf': 74, 'sister': 75, 'finish': 76, 'white': 77, 'bird': 78, 'what': 79, 'tired': 80, 'sit': 81, 'mother': 82, 'yes': 83, 'learn': 84, 'fish': 85, 'again': 86, 'sad': 87, 'table': 88, 'need': 89, 'where': 90, 'father': 91, 'milk': 92, 'cousin': 93, 'brother': 94, 'paper': 95, 'forget': 96, 'nothing': 97, 'book': 98, 'girl': 99, 'fine': 100, 'black': 101, 'boy': 102, 'lost': 103, 'family': 104, 'bored': 105, 'please': 106, 'water': 107, 'computer': 108, 'doctor': 109, 'yellow': 110, 'write': 111, 'hungry': 112, 'but': 113, 'drink': 114, 'bathroom': 115, 'man': 116, 'red': 117, 'beautiful': 118, 'sick': 119, 'blue': 120, 'green': 121, 'english': 122, 'name': 123, 'who': 124, 'same': 125, 'nurse': 126, 'now': 127, 'brown': 128, 'thanks': 129, 'hurt': 130, 'here': 131, 'grandmother': 132, 'pencil': 133, 'walk': 134, 'bad': 135, 'read': 136, 'when': 137, 'dance': 138, 'big': 139, 'sorry': 140, 'work': 141, 'draw': 142, 'grandfather': 143, 'woman': 144, 'right': 145, 'pink': 146, 'live': 147, 'apple': 148, 'your': 149, 'shoes': 150, 'bus': 151, 'slow': 152, 'wrong': 153, 'class': 154, 'dog': 155, 'sandwich': 156, 'purple': 157, 'have': 158, 'sell': 159, 'cook': 160, 'time': 161, 'college': 162, 'home': 163, 'coffee': 164, 'phone': 165, 'cat': 166, 'teach': 167, 'light': 168, 'turkey': 169, 'bicycle': 170, 'uncle': 171, 'cheese': 172, 'boyfriend': 173, 'sunday': 174, 'tomorrow': 175, 'today': 176, 'aunt': 177, 'party': 178, 'hot': 179, 'buy': 180, 'afraid': 181, 'homework': 182, 'jacket': 183, 'my': 184, 'movie': 185, 'can': 186, 'why': 187, 'daughter': 188, 'future': 189, 'color': 190, 'tea': 191, 'horse': 192, 'shirt': 193, 'yesterday': 194, 'mad': 195, 'box': 196, 'late': 197, 'excited': 198, 'son': 199, 'outside': 200, 'baby': 201, 'remember': 202, 'restaurant': 203, 'early': 204, 'candy': 205, 'soda': 206, 'library': 207, 'run': 208, 'kitchen': 209, 'which': 210, 'start': 211, 'bread': 212, 'house': 213, 'cold': 214, 'divorce': 215, 'nephew': 216, 'soccer': 217, 'hoddog': 218, 'watch': 219, 'wednesday': 220, 'mean': 221, 'practice': 222, 'car': 223, 'favorite': 224, 'bed': 225, 'ready': 226, 'cookie': 227, 'saturday': 228, 'enjoy': 229, 'germany': 230, 'study': 231, 'dentist': 232, 'born': 233, 'door': 234, 'ugly': 235, 'husband': 236, 'wife': 237, 'thursday': 238, 'math': 239, 'we': 240, 'glasses': 241, 'busy': 242, 'principal': 243, 'money': 244, 'shop': 245, 'old': 246, 'marry': 247, 'india': 248, 'niece': 249, 'bye': 250, 'monday': 251, 'die': 252, 'russia': 253, 'quiet': 254, 'small': 255, 'vacation': 256, \"can't\": 257, 'banana': 258, 'cream': 259, 'wow': 260, 'hat': 261, 'lunch': 262, 'eleven': 263, 'awful': 264, 'wood': 265, 'football': 266, 'people': 267, 'sweet': 268, 'cow': 269, 'thanksgiving': 270, 'fast': 271, 'sixteen': 272, 'cool': 273, 'gold': 274, 'arrive': 275, 'newspaper': 276, 'tree': 277, 'children': 278, 'shy': 279, 'graduate': 280, 'friendly': 281, 'smart': 282, 'medicine': 283, 'tall': 284, 'office': 285, 'flower': 286, 'cough': 287, 'surprise': 288, 'basketball': 289, 'dirty': 290, 'number': 291, 'twenty': 292, 'mexico': 293, 'pants': 294, 'of': 295, 'with': 296, 'china': 297, 'new': 298, 'confused': 299, 'lazy': 300, 'are': 301, 'dollar': 302, 'ten': 303, 'train': 304, 'cafeteria': 305, 'frustrated': 306, 'speech': 307, 'summer': 308, 'noon': 309, 'tuesday': 310, 'church': 311, 'history': 312, 'counselor': 313, 'science': 314, 'give': 315, 'baseball': 316, 'music': 317, 'egg': 318, 'grapes': 319, 'birthday': 320, 'warm': 321, 'interesting': 322, 'rude': 323, 'australia': 324, 'from': 325, 'shower': 326, 'beard': 327, 'secretary': 328, 'stay': 329, 'salad': 330, 'government': 331, 'corn': 332, 'nineteen': 333, 'nervous': 334, 'cereal': 335, 'asl': 336, 'ball': 337, 'expensive': 338, 'laugh': 339, 'focus': 340, 'cute': 341, 'paint': 342, 'pregnant': 343, 'some': 344, 'delicious': 345, 'girlfriend': 346, 'feel': 347, 'thin': 348, 'weekend': 349, 'chocolate': 350, 'strange': 351, 'funny': 352, 'interpreter': 353, 'breakfast': 354, 'friday': 355, 'television': 356, 'vegetable': 357, 'butter': 358, 'so': 359, 'leave': 360, 'boss': 361, 'never': 362, 'cup': 363, 'most': 364, 'exercise': 365, 'two': 366, 'everyday': 367, 'gray': 368, 'think': 369, 'hospital': 370, 'explain': 371, 'carrot': 372, 'meat': 373, 'gym': 374, 'hamburger': 375, 'lion': 376, 'fruit': 377, 'later': 378, 'talk': 379, 'strawberry': 380, 'stop': 381, 'thirteen': 382, 'sun': 383, 'sleep': 384, 'soap': 385, 'visit': 386, 'pay': 387, 'parents': 388, 'find': 389, 'city': 390, 'nosy': 391, 'adopt': 392, 'backpack': 393, 'asia': 394, 'twelve': 395, 'mustache': 396, 'pizza': 397, 'seventeen': 398, 'korea': 399, 'elephant': 400, 'university': 401, 'hi': 402, 'cracker': 403, 'salt': 404, 'canada': 405, 'jump': 406, 'full': 407, 'seem': 408, 'window': 409, 'before': 410, 'frog': 411, 'eighteen': 412, 'weather': 413, 'dinner': 414, 'cry': 415, 'japan': 416, 'build': 417, 'far': 418, 'humble': 419, 'midnight': 420, 'alarm': 421, 'dress': 422, 'wait': 423, 'potato': 424, 'tell': 425, 'put': 426, 'boat': 427, 'change': 428, 'fun': 429, 'meeting': 430, 'fifteen': 431, 'young': 432, 'kiss': 433, 'basement': 434, 'game': 435, 'education': 436, 'bear': 437, 'sometimes': 438, 'arrogant': 439, 'soup': 440, 'star': 441, 'popcorn': 442, 'tomato': 443, 'date': 444, 'turtle': 445, 'tiger': 446, 'spanish': 447, 'police': 448, 'first': 449, 'winter': 450, 'elevator': 451, 'fourteen': 452, 'total': 453, 'bacon': 454, 'steal': 455, 'snow': 456, 'gone': 457, 'their': 458, 'three': 459, 'seven': 460, 'they': 461, 'exam': 462, 'lettuce': 463, 'greece': 464, 'clothes': 465, 'living': 466, 'argue': 467, 'hate': 468, 'lie': 469, 'weak': 470, 'toast': 471, 'win': 472, 'sleepy': 473, 'bedroom': 474, 'oh': 475, 'key': 476, 'search': 477, 'email': 478, 'together': 479, 'bake': 480, 'back': 481, 'angry': 482, 'refrigerator': 483, 'garage': 484, 'airplane': 485, 'italy': 486, 'complain': 487, 'sweep': 488, 'fishing': 489, 'excuse': 490, 'swimming': 491, 'army': 492, 'always': 493, '30': 494, 'europe': 495, 'librarian': 496, 'high': 497, 'cheap': 498, 'rain': 499, 'bald': 500, 'better': 501, 'vomit': 502, 'cost': 503, 'plus': 504, 'ask': 505, 'senior': 506, 'dark': 507, 'actor': 508, 'giraffe': 509, 'stand': 510, 'nine': 511, 'business': 512, 'freshman': 513, 'fat': 514, 'show': 515, 'strong': 516, 'stupid': 517, 'mountain': 518, 'monkey': 519, 'team': 520, 'skirt': 521, 'finland': 522, 'worry': 523, 'towel': 524, 'past': 525, 'minute': 526, 'easy': 527, 'pepper': 528, 'there': 529, 'israel': 530, 'knife': 531, 'country': 532, 'headache': 533, \"what's\": 534, 'egypt': 535, 'onion': 536, 'ski': 537, 'six': 538, 'child': 539, 'fries': 540, 'dolphin': 541, 'grass': 542, 'medium': 543, 'internet': 544, 'beach': 545, 'four': 546, 'fire': 547, 'artist': 548, 'thirsty': 549, 'firefighter': 550, 'accident': 551, 'blanket': 552, 'sink': 553, 'earn': 554, 'fail': 555, 'few': 556, 'christmas': 557, 'socks': 558, 'juice': 559, 'mischievous': 560, 'close': 561, 'snob': 562, 'glass': 563, 'make': 564, 'laundry': 565, 'camping': 566, 'closet': 567, 'he': 568, '21': 569, 'ice': 570, 'skating': 571, 'our': 572, 'eight': 573, 'ireland': 574, 'area': 575, 'golf': 576, 'loan': 577, 'pass': 578, 'travel': 579, 'poland': 580, 'psychologist': 581, 'tie': 582, 'lawyer': 583, 'volleyball': 584, 'single': 585, 'dry': 586, 'hallway': 587, 'hike': 588, 'letter': 589, 'junior': 590, 'maybe': 591, 'retire': 592, 'motorcycle': 593, 'bright': 594, 'calendar': 595, 'vacuum': 596, 'scissors': 597, 'shock': 598, 'mechanic': 599, '25': 600, 'sore': 601, 'throat': 602, 'strict': 603, 'cake': 604, 'surfing': 605, 'netherlands': 606, 'shark': 607, 'spaghetti': 608, 'fly': 609, 'plate': 610, 'schedule': 611, 'wedding': 612, 'law': 613, 'sports': 614, 'bowl': 615, 'fight': 616, 'peach': 617, 'at': 618, 'swim': 619, 'pineapple': 620, 'chat': 621, 'five': 622, 'gymnastics': 623, '22': 624, 'polite': 625, 'bug': 626, 'world': 627, 'important': 628, 'floor': 629, 'lobster': 630, 'couch': 631, 'hanukkah': 632, 'deer': 633, 'pig': 634, 'embarrassed': 635, 'spain': 636, 'for': 637, 'ocean': 638, 'refuse': 639, 'microwave': 640, 'hold': 641, 'street': 642, 'cabinets': 643, 'melon': 644, 'bathtub': 645, 'engineer': 646, '26': 647, 'whale': 648, 'soon': 649, 'earthquake': 650, 'lousy': 651, 'umbrella': 652, 'measure': 653, 'crazy': 654, 'flag': 655, 'snake': 656, 'separate': 657, 'apartment': 658, 'hurry': 659, 'yet': 660, 'if': 661, 'disgusted': 662, 'furniture': 663, 'spoon': 664, 'hotel': 665, 'since': 666, 'sweden': 667, 'halloween': 668, 'annoy': 669, 'rainbow': 670, 'best': 671, 'sneeze': 672, 'pull': 673, 'boots': 674, 'glue': 675, 'dresser': 676, 'answer': 677, 'bath': 678, 'pillow': 679, 'often': 680, 'east': 681, 'fingerspell': 682, 'classroom': 683, 'front': 684, 'mouse': 685, 'sugar': 686, 'stairs': 687, 'sew': 688, 'engaged': 689, 'stubborn': 690, 'become': 691, 'jealous': 692, 'depressed': 693, 'careful': 694, 'museum': 695, 'drive': 696, 'near': 697, 'silly': 698, 'metal': 699, 'after': 700, 'dessert': 701, 'open': 702, 'river': 703, 'major': 704, 'cloud': 705, 'watermelon': 706, 'butterfly': 707, 'and': 708, 'musician': 709, 'vietnam': 710, 'cherry': 711, 'ok': 712, 'moon': 713, 'mainstreamed': 714, 'goat': 715, 'freeway': 716, 'jam': 717, 'candle': 718, 'austria': 719, 'minus': 720, 'proud': 721, 'iran': 722, 'twins': 723, 'swing': 724, 'poor': 725, 'magazine': 726, 'stamp': 727, '27': 728, 'clock': 729, 'pie': 730, 'truck': 731, 'scotland': 732, 'eyes': 733, 'sophomore': 734, 'around': 735, 'chemistry': 736, 'theater': 737, 'join': 738, 'pet': 739, 'also': 740, '29': 741, 'oversleep': 742, 'roommate': 743, 'tennis': 744, '24': 745, 'hill': 746, 'hockey': 747, 'tape': 748, 'tend': 749, 'rabbit': 750, 'fix': 751, 'spider': 752, 'piano': 753, '23': 754, 'pear': 755, 'silver': 756, 'both': 757, 'photography': 758, 'locker': 759, 'dumb': 760, 'ears': 761, 'his': 762, 'brush': 763, 'teeth': 764, 'stove': 765, 'due': 766, 'janitor': 767, '28': 768, 'accountant': 769, 'chef': 770, 'famous': 771, 'believe': 772, 'animal': 773, 'use': 774, 'elementary': 775, 'geometry': 776, 'physics': 777, 'island': 778, 'picture': 779, 'photographer': 780, 'free': 781, 'dorm': 782, 'appointment': 783, 'relationship': 784, 'easter': 785, 'personality': 786, 'do': 787, 'partner': 788, 'argentina': 789, 'switzerland': 790, 'belt': 791, 'underwear': 792, 'biology': 793, 'camera': 794, 'beer': 795, 'ketchup': 796, 'waiter': 797, 'equal': 798, 'hashtag': 799, 'fox': 800, 'only': 801, 'credit': 802, 'card': 803, 'screwdriver': 804, 'alone': 805, 'heart': 806, 'bowling': 807, 'slide': 808, 'check': 809, 'algebra': 810, 'manager': 811, 'therapy': 812, 'norway': 813, 'wet': 814, 'happen': 815, 'health': 816, 'listen': 817, 'throw': 818, 'match': 819, 'philippines': 820, 'trigonometry': 821, 'rich': 822, 'still': 823, 'disappointed': 824, 'shrimp': 825, 'absent': 826, 'mix': 827, 'save': 828, 'economics': 829, 'portugal': 830, 'sweetheart': 831, 'dizzy': 832, 'iraq': 833, 'innocent': 834, 'decide': 835, 'lonely': 836, '100': 837, 'welcome': 838, 'traffic': 839, 'head': 840, 'scarf': 841, 'group': 842, 'perfect': 843, 'shelves': 844, 'rest': 845, 'duck': 846, 'awkward': 847, 'care': 848, 'sheep': 849, 'calculus': 850, 'hear': 851, 'step': 852, 'plan': 853, 'curly': 854, 'comfortable': 855, 'rock': 856, 'send': 857, 'squirrel': 858, 'curious': 859, 'denmark': 860, 'upset': 861, 'brave': 862, 'west': 863, 'vice': 864, 'president': 865, 'athlete': 866, 'hid': 867, 'guilty': 868, 'engineering': 869, 'nuts': 870, 'subway': 871, 'it': 872, 'introduce': 873, 'line': 874, 'nose': 875, 'serious': 876, 'research': 877, 'lake': 878, 'celebrate': 879, 'camp': 880, 'left': 881, 'yearbook': 882, 'meaning': 883, 'transfer': 884, 'inform': 885, 'grey': 886, 'sweater': 887, 'pow': 888, 'hong': 889, 'kong': 890, 'emotional': 891, 'pool': 892, 'about': 893, 'gossip': 894, 'gallaudet': 895, 'lamp': 896, 'broke': 897, 'dictionary': 898, 'cochlear': 899, 'implant': 900, 'north': 901, 'mushroom': 902, 'flirt': 903, 'eye': 904, 'contact': 905, 'hit': 906, 'skateboard': 907, 'culture': 908, 'false': 909, 'cent': 910, 'envelope': 911, 'cuba': 912, 'apply': 913, 'stuck': 914, 'hippo': 915, 'dining': 916, 'adult': 917, 'wall': 918, 'true': 919, 'gasoline': 920, 'cardss': 921, 'discuss': 922, '50': 923, 'bookstore': 924, 'jail': 925, 'quarter': 926, 'list': 927, 'question': 928, 'march': 929, 'curtains': 930, 'several': 931, 'pancake': 932, 'radio': 933, 'lemon': 934, 'disappear': 935, 'emergency': 936, 'judge': 937, 'wine': 938, 'bat': 939, 'follow': 940, 'fence': 941, 'psychology': 942, 'any': 943, 'ring': 944, 'rubber': 945, 'pshaw': 946, 'mouth': 947, 'wash': 948, 'push': 949, 'grocery': 950, 'store': 951, 'ticket': 952, 'motivated': 953, 'accept': 954, 'off': 955, 'during': 956, 'bitter': 957, 'snowboard': 958, 'loud': 959, 'drop': 960, 'puerto': 961, 'rico': 962, 'taiwan': 963, 'lead': 964, 'example': 965, 'bank': 966, 'worm': 967, 'intersection': 968, 'less': 969, 'destroy': 970, 'ago': 971, 'gum': 972, 'cashier': 973, 'flat': 974, 'tire': 975, 'scientist': 976, 'challenge': 977}\n"
          ]
        }
      ]
    },
    {
      "cell_type": "code",
      "source": [
        "print ('\\nSequences = {}'.format(sequences))"
      ],
      "metadata": {
        "colab": {
          "base_uri": "https://localhost:8080/"
        },
        "id": "pkEveFF-XcHU",
        "outputId": "48e71f77-e918-4567-8651-6672fb918061"
      },
      "execution_count": 33,
      "outputs": [
        {
          "output_type": "stream",
          "name": "stdout",
          "text": [
            "\n",
            "Sequences = [[68], [27], [69], [70], [71], [72], [14], [73], [28], [74], [5], [75], [76], [77], [78], [79], [80], [29], [81], [82], [83], [30], [84], [31], [15], [85], [86], [87], [88], [89], [90], [91], [92], [93], [94], [95], [96], [97], [98], [99], [100], [101], [102], [103], [104], [16], [105], [106], [107], [108], [32], [109], [110], [111], [112], [113], [114], [115], [116], [17], [33], [117], [118], [119], [120], [121], [122], [123], [6], [124], [125], [126], [34], [127], [128], [129], [130], [131], [132], [133], [134], [135], [136], [137], [138], [35], [36], [37], [139], [140], [141], [142], [143], [144], [145], [38], [146], [39], [147], [18], [148], [149], [150], [151], [152], [153], [154], [40], [155], [156], [157], [158], [19], [159], [2], [160], [161], [162], [163], [164], [165], [166], [167], [168], [169], [170], [171], [172], [173], [174], [175], [176], [177], [178], [7], [179], [180], [181], [182], [183], [184], [185], [186], [187], [188], [189], [190], [191], [192], [193], [8], [194], [195], [2, 39], [196], [197], [198], [199], [9], [200], [201], [202], [203], [204], [41], [2, 14], [205], [206], [207], [208], [209], [42], [210], [211], [212], [213], [17, 43], [214], [215], [216], [217], [218], [219], [220], [221], [222], [223], [224], [225], [226], [227], [228], [229], [230], [231], [232], [233], [44], [234], [235], [236], [237], [238], [239], [10], [240], [241], [242], [243], [244], [11], [245], [246], [247], [248], [249], [250], [251], [252], [253], [20], [254], [255], [256], [257], [258], [45, 259], [260], [261], [262], [263], [264], [265], [266], [267], [268], [269], [270], [271], [272], [273], [274], [275], [276], [277], [278], [279], [280], [281], [282], [2, 28], [283], [284], [285], [286], [287], [46], [12], [288], [289], [290], [43], [291], [292], [293], [47], [294], [48], [49, 295, 16], [296], [297], [298], [299], [300], [17, 301, 6], [302], [303], [304], [305], [306], [307], [308], [309], [310], [311], [312], [313], [314], [315], [316], [317], [318], [319], [320], [321], [322], [323], [324], [325], [326], [327], [328], [329], [330], [331], [332], [333], [334], [335], [336], [337], [338], [339], [340], [13], [341], [342], [343], [344], [345], [346], [50], [347], [348], [349], [350], [351], [352], [353], [354], [355], [21, 10], [356], [357], [358], [359], [360], [361], [362], [363], [364], [365], [366], [367], [368], [369], [370], [371], [372], [373], [374], [375], [376], [377], [378], [379], [380], [51], [381], [382], [383], [384], [385], [386], [387], [388], [389], [390], [391], [392], [393], [394], [395], [396], [397], [398], [399], [400], [401], [402], [403], [404], [405], [406], [407], [408], [409], [410], [411], [412], [413], [414], [415], [416], [417], [418], [419], [420], [421], [422], [423], [424], [425], [426, 52], [427], [428], [429], [430], [431], [432], [433], [434], [435], [436], [437], [438], [439], [2, 33], [440], [441], [442], [443], [444], [445], [446], [447], [448], [449], [450], [451], [452], [453], [454], [53], [455], [456], [457], [458], [459], [460], [461], [462], [463], [464], [465], [466, 54], [467], [468], [469], [470], [471], [472], [473], [16, 32], [474], [475, 22, 44], [476], [477], [478], [479], [480], [481], [482], [483], [484], [485], [486], [487], [488], [13, 9], [489], [490, 19], [491], [492], [493], [494], [495], [496], [497, 5], [498], [499], [500], [501], [502], [503], [504], [505], [506], [507], [55, 3], [508], [7, 18], [509], [510], [511], [512], [513], [514], [56], [515], [516], [517], [7, 34], [518], [519], [520], [521], [522], [523], [524], [525], [526], [527], [57], [528], [529], [530], [531], [532], [533], [534, 3], [535], [536], [537], [538], [539], [38, 540], [541], [49], [542], [543], [544], [545], [546], [547], [548], [549], [550], [551], [552], [553], [554], [555], [556], [557], [15, 11], [558], [559], [560], [561], [562], [563], [564], [565], [566], [567], [568], [569], [570, 571], [572], [27, 58, 40, 6], [573], [574], [575], [576], [577], [578], [579], [21, 9], [37, 58], [580], [581], [582], [583], [584], [585], [586], [587], [588], [589], [590], [591], [592], [593], [594], [595], [596], [597], [23, 12], [598], [599], [600], [601, 602], [603], [604], [605], [59], [3], [606], [607], [24], [608], [609], [610], [611], [612], [4, 11], [613], [614], [615], [56, 12], [616], [617], [60, 618], [619], [620], [621], [4, 18], [622], [623], [624], [625], [626], [627], [628], [629], [630], [631], [632], [633], [634], [635], [636], [13, 10], [637], [638], [639], [31, 3], [640], [641, 61], [642], [643], [644], [645], [646], [647], [648], [649], [650], [651], [652], [653], [654], [655], [656], [657], [658], [659], [2, 660], [62], [661], [662], [663], [664], [665], [666], [667], [668], [669], [670], [671, 29], [672], [673], [674], [675], [676], [677], [678], [679], [680], [681], [682], [683], [684], [685], [686], [687], [688], [689], [690], [691], [692], [693], [694], [695], [696], [25, 5], [697], [698], [699], [700], [701], [702], [703], [704], [705], [706], [707], [708], [709], [710], [55], [4, 10], [711], [712], [713], [714], [715], [4, 20], [716], [717], [22], [718], [719], [720], [721], [722], [723], [724], [725], [726], [727], [22, 8, 6], [63], [728], [729], [730], [731], [732], [733], [734], [735], [736], [737], [738], [739], [740], [741], [742], [743], [26], [744], [745], [746], [53, 62, 8], [747], [748], [749], [750], [751], [752], [753], [754], [60, 14], [755], [756], [757], [758], [759], [760], [761], [762], [763, 764], [765], [766], [767], [768], [769], [770], [771], [772], [773], [774], [775, 5], [4, 9], [776], [777], [778], [779], [780], [781], [782], [783], [784], [785], [786], [787], [788], [789], [790], [791], [64], [792], [793], [794], [795], [796], [797], [798], [799], [800], [801], [802, 803], [65], [804], [805], [806], [807], [808], [809], [810], [23], [811], [812], [813], [814], [815], [816], [817], [818], [819], [820], [821], [822], [823], [824], [825], [826], [827], [828], [829], [830], [831], [832], [833], [834], [835], [836], [36, 57], [837], [838], [839], [840], [841], [13, 48], [842], [843], [844], [845], [846], [847], [24, 848], [849], [45], [850], [851], [852], [853], [854, 12], [855], [856], [857], [858], [859], [860], [26, 51], [861], [862], [863], [864, 865], [866], [867], [868], [66], [869], [870], [871], [8, 872], [873], [64, 61], [874, 3], [875], [876], [877], [878], [879], [880], [881], [882], [25], [883], [884], [885], [886], [887], [888], [889, 890], [891], [892], [893], [894], [895], [896], [897], [52], [898], [899, 900], [901], [902], [903], [904, 905], [906], [907], [908], [909], [910], [911], [46, 3], [21], [912], [913], [914], [915], [916, 54], [917], [918], [919], [920], [63, 42], [35, 921], [922], [923], [924], [925], [926], [927], [928], [929], [930], [931], [932], [933], [934], [935], [936], [937], [938], [939], [59, 19], [940], [941], [942], [943], [944], [945], [946], [26, 47], [947], [948, 65], [949], [15, 20], [950, 951], [952], [953], [954], [24, 955], [66, 50], [956], [957], [958], [959], [960], [961, 962], [963], [964], [965], [966], [967], [968], [969, 67], [7, 11], [970], [23, 971], [41, 67], [972], [30, 25], [973], [974, 975], [976], [977]]\n"
          ]
        }
      ]
    },
    {
      "cell_type": "code",
      "source": [
        "padded = pad_sequences(sequences, maxlen=max_length, padding=padding_type, truncating=trunc_type)\n",
        "print ('\\nPadded Sequences = {}'.format(padded))\n"
      ],
      "metadata": {
        "colab": {
          "base_uri": "https://localhost:8080/"
        },
        "id": "nKQYK23fZsE0",
        "outputId": "95a4f56d-f6c6-44d1-f2ac-80cfd9a8489d"
      },
      "execution_count": 34,
      "outputs": [
        {
          "output_type": "stream",
          "name": "stdout",
          "text": [
            "\n",
            "Padded Sequences = [[ 68   0   0 ...   0   0   0]\n",
            " [ 27   0   0 ...   0   0   0]\n",
            " [ 69   0   0 ...   0   0   0]\n",
            " ...\n",
            " [974 975   0 ...   0   0   0]\n",
            " [976   0   0 ...   0   0   0]\n",
            " [977   0   0 ...   0   0   0]]\n"
          ]
        }
      ]
    },
    {
      "cell_type": "code",
      "source": [
        "model = tf.keras.Sequential([\n",
        "    tf.keras.layers.Embedding(vocab_size, embedding_dim, input_length=max_length),\n",
        "    tf.keras.layers.GlobalAveragePooling1D(),\n",
        "    tf.keras.layers.Dense(24, activation='relu'),\n",
        "    tf.keras.layers.Dense(1, activation='sigmoid')\n",
        "])\n",
        "model.compile(loss='binary_crossentropy',optimizer='adam',metrics=['accuracy'])"
      ],
      "metadata": {
        "id": "RjPzhUvKWT7M"
      },
      "execution_count": 35,
      "outputs": []
    }
  ]
}