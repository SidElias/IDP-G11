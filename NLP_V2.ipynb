{
  "nbformat": 4,
  "nbformat_minor": 0,
  "metadata": {
    "colab": {
      "provenance": [],
      "authorship_tag": "ABX9TyOPexrLjq203pQI++5nSK8I",
      "include_colab_link": true
    },
    "kernelspec": {
      "name": "python3",
      "display_name": "Python 3"
    },
    "language_info": {
      "name": "python"
    }
  },
  "cells": [
    {
      "cell_type": "markdown",
      "metadata": {
        "id": "view-in-github",
        "colab_type": "text"
      },
      "source": [
        "<a href=\"https://colab.research.google.com/github/SidElias/IDP-G11/blob/main/NLP_V2.ipynb\" target=\"_parent\"><img src=\"https://colab.research.google.com/assets/colab-badge.svg\" alt=\"Open In Colab\"/></a>"
      ]
    },
    {
      "cell_type": "code",
      "execution_count": 1,
      "metadata": {
        "colab": {
          "base_uri": "https://localhost:8080/"
        },
        "id": "sX4bVWmAoV40",
        "outputId": "9fec121c-a099-440c-9003-2b76551359cc"
      },
      "outputs": [
        {
          "output_type": "stream",
          "name": "stdout",
          "text": [
            "Epoch 1/10\n",
            "215/215 [==============================] - 27s 52ms/step - loss: 2.2054 - accuracy: 0.3503 - val_loss: 1.2982 - val_accuracy: 0.6543\n",
            "Epoch 2/10\n",
            "215/215 [==============================] - 8s 37ms/step - loss: 0.7715 - accuracy: 0.7734 - val_loss: 0.5674 - val_accuracy: 0.8419\n",
            "Epoch 3/10\n",
            "215/215 [==============================] - 6s 30ms/step - loss: 0.3836 - accuracy: 0.8963 - val_loss: 0.4109 - val_accuracy: 0.8860\n",
            "Epoch 4/10\n",
            "215/215 [==============================] - 8s 38ms/step - loss: 0.2488 - accuracy: 0.9324 - val_loss: 0.3514 - val_accuracy: 0.8977\n",
            "Epoch 5/10\n",
            "215/215 [==============================] - 6s 30ms/step - loss: 0.1890 - accuracy: 0.9474 - val_loss: 0.3266 - val_accuracy: 0.9046\n",
            "Epoch 6/10\n",
            "215/215 [==============================] - 8s 37ms/step - loss: 0.1549 - accuracy: 0.9559 - val_loss: 0.3301 - val_accuracy: 0.9079\n",
            "Epoch 7/10\n",
            "215/215 [==============================] - 6s 29ms/step - loss: 0.1322 - accuracy: 0.9615 - val_loss: 0.3173 - val_accuracy: 0.9112\n",
            "Epoch 8/10\n",
            "215/215 [==============================] - 8s 36ms/step - loss: 0.1156 - accuracy: 0.9664 - val_loss: 0.3197 - val_accuracy: 0.9112\n",
            "Epoch 9/10\n",
            "215/215 [==============================] - 6s 30ms/step - loss: 0.1006 - accuracy: 0.9708 - val_loss: 0.3169 - val_accuracy: 0.9127\n",
            "Epoch 10/10\n",
            "215/215 [==============================] - 8s 37ms/step - loss: 0.0889 - accuracy: 0.9751 - val_loss: 0.3295 - val_accuracy: 0.9120\n",
            "60/60 [==============================] - 1s 8ms/step - loss: 0.4299 - accuracy: 0.8794\n",
            "Test Accuracy: 0.879400372505188\n"
          ]
        }
      ],
      "source": [
        "import tensorflow as tf\n",
        "from keras.preprocessing.text import Tokenizer\n",
        "from keras.preprocessing.sequence import pad_sequences\n",
        "from keras.utils import to_categorical\n",
        "import numpy as np\n",
        "import urllib.request\n",
        "\n",
        "# Download and preprocess the dataset\n",
        "url = \"https://raw.githubusercontent.com/UniversalDependencies/UD_English-GUM/master/en_gum-ud-train.conllu\"\n",
        "file_path = \"en_gum-ud-train.conllu\"\n",
        "urllib.request.urlretrieve(url, file_path)\n",
        "\n",
        "# Parse the dataset\n",
        "sentences = []\n",
        "pos_tags = []\n",
        "sentence = []\n",
        "tag = []\n",
        "\n",
        "with open(file_path, \"r\", encoding=\"utf-8\") as f:\n",
        "    lines = f.readlines()\n",
        "\n",
        "for line in lines:\n",
        "    if line.startswith(\"#\"):\n",
        "        continue\n",
        "    if line.strip() == \"\":\n",
        "        if sentence:\n",
        "            sentences.append(sentence)\n",
        "            pos_tags.append(tag)\n",
        "            sentence = []\n",
        "            tag = []\n",
        "    else:\n",
        "        parts = line.split(\"\\t\")\n",
        "        if len(parts) > 3:\n",
        "            sentence.append(parts[1])\n",
        "            tag.append(parts[3])\n",
        "\n",
        "if sentence:\n",
        "    sentences.append(sentence)\n",
        "    pos_tags.append(tag)\n",
        "\n",
        "# Create vocabularies for words and tags\n",
        "vocab_size = 10000\n",
        "embedding_dim = 16\n",
        "max_length = 20\n",
        "trunc_type = 'post'\n",
        "padding_type = 'post'\n",
        "oov_tok = \"<OOV>\"\n",
        "\n",
        "word_tokenizer = Tokenizer(num_words=vocab_size, oov_token=oov_tok)\n",
        "word_tokenizer.fit_on_texts(sentences)\n",
        "\n",
        "tag_tokenizer = Tokenizer(lower=False)\n",
        "tag_tokenizer.fit_on_texts(pos_tags)\n",
        "\n",
        "# Convert words and tags to sequences\n",
        "word_index = word_tokenizer.word_index\n",
        "tag_index = tag_tokenizer.word_index\n",
        "\n",
        "X = word_tokenizer.texts_to_sequences(sentences)\n",
        "y = tag_tokenizer.texts_to_sequences(pos_tags)\n",
        "\n",
        "# Pad sequences\n",
        "X = pad_sequences(X, maxlen=max_length, padding=padding_type, truncating=trunc_type)\n",
        "y = pad_sequences(y, maxlen=max_length, padding=padding_type, truncating=trunc_type)\n",
        "\n",
        "# Convert tags to categorical\n",
        "num_tags = len(tag_index) + 1\n",
        "y = [to_categorical(i, num_classes=num_tags) for i in y]\n",
        "y = np.array(y)\n",
        "\n",
        "# Split the data into training and testing sets\n",
        "training_size = int(len(X) * 0.8)\n",
        "X_train, X_test = X[:training_size], X[training_size:]\n",
        "y_train, y_test = y[:training_size], y[training_size:]\n",
        "\n",
        "# Build the model\n",
        "model = tf.keras.Sequential([\n",
        "    tf.keras.layers.Embedding(input_dim=vocab_size, output_dim=embedding_dim, input_length=max_length, mask_zero=True),\n",
        "    tf.keras.layers.Bidirectional(tf.keras.layers.LSTM(64, return_sequences=True)),\n",
        "    tf.keras.layers.TimeDistributed(tf.keras.layers.Dense(num_tags, activation='softmax'))\n",
        "])\n",
        "\n",
        "model.compile(optimizer='adam', loss='categorical_crossentropy', metrics=['accuracy'])\n",
        "\n",
        "# Train the model\n",
        "model.fit(X_train, y_train, batch_size=32, epochs=10, validation_split=0.1)\n",
        "\n",
        "# Evaluate the model\n",
        "loss, accuracy = model.evaluate(X_test, y_test)\n",
        "print(f\"Test Accuracy: {accuracy}\")\n",
        "\n"
      ]
    },
    {
      "cell_type": "code",
      "source": [
        "# Predict POS tags for the input sentence\n",
        "print(\"Enter text.\")\n",
        "text = input()\n",
        "sentences = [text.split()]\n",
        "sequences = word_tokenizer.texts_to_sequences(sentences)\n",
        "padded = pad_sequences(sequences, maxlen=max_length, padding=padding_type, truncating=trunc_type)\n",
        "\n",
        "\n",
        "predictions = model.predict(padded)\n",
        "predicted_tags = np.argmax(predictions, axis=-1)\n",
        "\n",
        "# Convert indices back to words and tags\n",
        "words = [word for word in text.split()]\n",
        "tags = [tag_tokenizer.index_word[idx] for idx in predicted_tags[0] if idx != 0]\n",
        "\n",
        "print(\"Words:\", words)\n",
        "print(\"Predicted POS tags:\", tags)"
      ],
      "metadata": {
        "colab": {
          "base_uri": "https://localhost:8080/"
        },
        "id": "7u2dHxZKybeI",
        "outputId": "46be1220-7b38-4444-e962-b4b75d9a9817"
      },
      "execution_count": 2,
      "outputs": [
        {
          "output_type": "stream",
          "name": "stdout",
          "text": [
            "Enter text.\n",
            "Hi! how are you? I hope you are doing well.\n",
            "1/1 [==============================] - 4s 4s/step\n",
            "Words: ['Hi!', 'how', 'are', 'you?', 'I', 'hope', 'you', 'are', 'doing', 'well.']\n",
            "Predicted POS tags: ['ADJ', 'ADV', 'AUX', 'VERB', 'PRON', 'VERB', 'PRON', 'AUX', 'VERB', 'ADJ', 'PROPN', 'PROPN', 'PROPN', 'PROPN', 'PROPN', 'PROPN', 'PROPN', 'PROPN', 'PROPN', 'PROPN']\n"
          ]
        }
      ]
    },
    {
      "cell_type": "code",
      "source": [],
      "metadata": {
        "id": "fwloIQ8MsZRR"
      },
      "execution_count": null,
      "outputs": []
    }
  ]
}